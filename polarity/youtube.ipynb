{
 "cells": [
  {
   "cell_type": "code",
   "execution_count": 72,
   "metadata": {},
   "outputs": [
    {
     "name": "stdout",
     "output_type": "stream",
     "text": [
      "The autoreload extension is already loaded. To reload it, use:\n",
      "  %reload_ext autoreload\n"
     ]
    }
   ],
   "source": [
    "%load_ext autoreload\n",
    "%autoreload 2\n",
    "\n",
    "path = \"c:/users/germain françois/documents/5. ENSTA/cours 3A/0. Kite/\"\n",
    "indir = \"data/youtube/\"\n",
    "outdir = \"data/output/\"\n",
    "\n",
    "import pandas as pd\n",
    "pd.set_option('display.max_colwidth', -1)\n",
    "\n",
    "import os\n",
    "os.chdir(path)\n",
    "#os.getcwd()\n",
    "\n",
    "from src import youtubeAnalysis as yt"
   ]
  },
  {
   "cell_type": "code",
   "execution_count": 68,
   "metadata": {},
   "outputs": [
    {
     "name": "stdout",
     "output_type": "stream",
     "text": [
      "Loading file : AllyFantaisies.csv\n",
      " 70.97 % of positive comments\n",
      "Loading file : AngelMakeup.csv\n",
      " 77.78 % of positive comments\n",
      "Loading file : Astucesdefilles_Sarah.csv\n",
      " 53.70 % of positive comments\n",
      "Loading file : Astucesdefilles_Sara_.csv\n",
      " 53.70 % of positive comments\n",
      "Loading file : bipxcensure_.csv\n",
      " 60.87 % of positive comments\n",
      "Loading file : CurlySarah.csv\n",
      " 46.15 % of positive comments\n",
      "Loading file : Cynthia_Dulude.csv\n",
      " 77.93 % of positive comments\n",
      "Loading file : elsamakeup.csv\n",
      " 72.15 % of positive comments\n",
      "Loading file : Emysooobeauty.csv\n",
      " 33.33 % of positive comments\n",
      "Loading file : Entre_Brushing_et_Cuisine.csv\n",
      " 57.58 % of positive comments\n",
      "Loading file : Face2Face-Makeup.csv\n",
      " 88.00 % of positive comments\n",
      "Loading file : Graine_de_Pailette.csv\n",
      " 65.67 % of positive comments\n",
      "Loading file : HelloCyrielle.csv\n",
      " 76.92 % of positive comments\n",
      "Loading file : Horia.csv\n",
      " 85.26 % of positive comments\n",
      "Loading file : jenesuispasjolie.csv\n",
      " 78.12 % of positive comments\n",
      "Loading file : Kenza_Sadoun-el_Glaoui.csv\n",
      " 53.85 % of positive comments\n",
      "Loading file : Kihou.csv\n",
      " 64.20 % of positive comments\n",
      "Loading file : lady_marjo.csv\n",
      " 53.33 % of positive comments\n",
      "Loading file : la_vie_en_rose.csv\n",
      " 78.26 % of positive comments\n",
      "Loading file : Le_Monde_De_Caro.csv\n",
      " 60.00 % of positive comments\n",
      "Loading file : LOdoesmakeup.csv\n",
      " 78.38 % of positive comments\n",
      "Loading file : Loulou.csv\n",
      " 75.47 % of positive comments\n",
      "Loading file : Léna_Situations.csv\n",
      " 59.26 % of positive comments\n",
      "Loading file : MaBelleBarbouze.csv\n",
      " 50.00 % of positive comments\n",
      "Loading file : Magali_Bertin_-_Beauté_Blog.csv\n",
      " 68.97 % of positive comments\n",
      "Loading file : Magali_Bertin_Beaut_Blog_.csv\n",
      " 69.35 % of positive comments\n",
      "Loading file : MissouMakeup.csv\n",
      " 63.45 % of positive comments\n",
      "Loading file : Rose_Today.csv\n",
      " 65.00 % of positive comments\n",
      "Loading file : THE_WORLD_OF_SISTERS.csv\n",
      " 64.21 % of positive comments\n",
      "Loading file : YOUCANHEARTIT.csv\n",
      " 53.33 % of positive comments\n",
      "Loading file : _nicole_tonnelle.csv\n",
      " 83.56 % of positive comments\n"
     ]
    }
   ],
   "source": [
    "files = os.listdir(path + indir)\n",
    "res = pd.DataFrame(columns=['file', 'ratio'])\n",
    "for file in files:\n",
    "    print(\"Loading file : \" + file)\n",
    "    df = yt.loadFile(path + indir + file)\n",
    "    scores = yt.computeScores(df)\n",
    "    score = yt.ratioPositive(scores)\n",
    "    print( \" {0:.2f} % of positive comments\".format(score * 100))\n",
    "    res = res.append({'file' : file , 'ratio' : score}, ignore_index = True)\n",
    "\n"
   ]
  },
  {
   "cell_type": "code",
   "execution_count": 71,
   "metadata": {},
   "outputs": [
    {
     "data": {
      "text/html": [
       "<div>\n",
       "<style scoped>\n",
       "    .dataframe tbody tr th:only-of-type {\n",
       "        vertical-align: middle;\n",
       "    }\n",
       "\n",
       "    .dataframe tbody tr th {\n",
       "        vertical-align: top;\n",
       "    }\n",
       "\n",
       "    .dataframe thead th {\n",
       "        text-align: right;\n",
       "    }\n",
       "</style>\n",
       "<table border=\"1\" class=\"dataframe\">\n",
       "  <thead>\n",
       "    <tr style=\"text-align: right;\">\n",
       "      <th></th>\n",
       "      <th>file</th>\n",
       "      <th>ratio</th>\n",
       "    </tr>\n",
       "  </thead>\n",
       "  <tbody>\n",
       "    <tr>\n",
       "      <th>0</th>\n",
       "      <td>AllyFantaisies.csv</td>\n",
       "      <td>0.709677</td>\n",
       "    </tr>\n",
       "    <tr>\n",
       "      <th>1</th>\n",
       "      <td>AngelMakeup.csv</td>\n",
       "      <td>0.777778</td>\n",
       "    </tr>\n",
       "    <tr>\n",
       "      <th>2</th>\n",
       "      <td>Astucesdefilles_Sarah.csv</td>\n",
       "      <td>0.537037</td>\n",
       "    </tr>\n",
       "    <tr>\n",
       "      <th>3</th>\n",
       "      <td>Astucesdefilles_Sara_.csv</td>\n",
       "      <td>0.537037</td>\n",
       "    </tr>\n",
       "    <tr>\n",
       "      <th>4</th>\n",
       "      <td>bipxcensure_.csv</td>\n",
       "      <td>0.608696</td>\n",
       "    </tr>\n",
       "  </tbody>\n",
       "</table>\n",
       "</div>"
      ],
      "text/plain": [
       "                        file     ratio\n",
       "0  AllyFantaisies.csv         0.709677\n",
       "1  AngelMakeup.csv            0.777778\n",
       "2  Astucesdefilles_Sarah.csv  0.537037\n",
       "3  Astucesdefilles_Sara_.csv  0.537037\n",
       "4  bipxcensure_.csv           0.608696"
      ]
     },
     "execution_count": 71,
     "metadata": {},
     "output_type": "execute_result"
    }
   ],
   "source": [
    "res.head()"
   ]
  },
  {
   "cell_type": "code",
   "execution_count": 74,
   "metadata": {},
   "outputs": [],
   "source": [
    "res.to_csv(path + outdir + \"res.csv\")"
   ]
  }
 ],
 "metadata": {
  "kernelspec": {
   "display_name": "Python 3",
   "language": "python",
   "name": "python3"
  },
  "language_info": {
   "codemirror_mode": {
    "name": "ipython",
    "version": 3
   },
   "file_extension": ".py",
   "mimetype": "text/x-python",
   "name": "python",
   "nbconvert_exporter": "python",
   "pygments_lexer": "ipython3",
   "version": "3.7.0"
  }
 },
 "nbformat": 4,
 "nbformat_minor": 2
}
